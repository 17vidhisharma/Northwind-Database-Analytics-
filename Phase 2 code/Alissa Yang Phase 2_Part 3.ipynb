{
 "cells": [
  {
   "cell_type": "code",
   "execution_count": 17,
   "id": "4732c336-2474-4725-8a5e-898938ae7cfa",
   "metadata": {},
   "outputs": [],
   "source": [
    "import sqlite3\n",
    "import pandas as pd"
   ]
  },
  {
   "cell_type": "code",
   "execution_count": 21,
   "id": "136f4420-c2bd-431f-80a1-5ae18fabdeaa",
   "metadata": {},
   "outputs": [],
   "source": [
    "conn = sqlite3.connect('northwind.db')"
   ]
  },
  {
   "cell_type": "code",
   "execution_count": 31,
   "id": "0dd60a37-f0d4-4fd5-88a2-d4bb2875bbce",
   "metadata": {},
   "outputs": [],
   "source": [
    "query = \"\"\"\n",
    "WITH ProductSales AS (\n",
    "    SELECT \n",
    "        c.CategoryName,\n",
    "        p.ProductID,\n",
    "        p.ProductName,\n",
    "        ROUND(SUM(od.UnitPrice * od.Quantity), 2) AS TotalSales\n",
    "    FROM [Order Details] od\n",
    "    JOIN Products p ON od.ProductID = p.ProductID\n",
    "    JOIN Categories c ON p.CategoryID = c.CategoryID\n",
    "    GROUP BY c.CategoryName, p.ProductID\n",
    "),\n",
    "RankedProducts AS (\n",
    "    SELECT \n",
    "        CategoryName,\n",
    "        ProductID,\n",
    "        ProductName,\n",
    "        TotalSales,\n",
    "        RANK() OVER (PARTITION BY CategoryName ORDER BY TotalSales DESC) AS CategoryRank\n",
    "    FROM ProductSales\n",
    ")\n",
    "SELECT \n",
    "    CategoryName,\n",
    "    ProductID,\n",
    "    ProductName,\n",
    "    TotalSales,\n",
    "    CategoryRank\n",
    "FROM RankedProducts\n",
    "WHERE CategoryRank <= 3;\n",
    "\"\"\""
   ]
  },
  {
   "cell_type": "code",
   "execution_count": 32,
   "id": "3a17393a-4442-48d1-995e-7a5ec60b1357",
   "metadata": {},
   "outputs": [],
   "source": [
    "df = pd.read_sql_query(query, conn)"
   ]
  },
  {
   "cell_type": "code",
   "execution_count": 33,
   "id": "a83c5038-9dc3-46f6-9038-cf3e8bdd0f98",
   "metadata": {},
   "outputs": [
    {
     "name": "stdout",
     "output_type": "stream",
     "text": [
      "      CategoryName  ProductID                      ProductName   TotalSales  \\\n",
      "0        Beverages         38                    Côte de Blaye  53274482.70   \n",
      "1        Beverages         43                      Ipoh Coffee   9334927.20   \n",
      "2        Beverages          2                            Chang   3832714.20   \n",
      "3       Condiments         63                     Vegie-spread   8811700.40   \n",
      "4       Condiments          8       Northwoods Cranberry Sauce   8074640.00   \n",
      "5       Condiments         61                   Sirop d'érable   5841895.80   \n",
      "6      Confections         20           Sir Rodney's Marmalade  16654879.80   \n",
      "7      Confections         62                   Tarte au sucre   9955529.00   \n",
      "8      Confections         27               Schoggi Schokolade   8829210.10   \n",
      "9   Dairy Products         59             Raclette Courdavault  11221551.00   \n",
      "10  Dairy Products         12        Queso Manchego La Pastora   7684990.80   \n",
      "11  Dairy Products         69                 Gudbrandsdalsost   7232947.20   \n",
      "12  Grains/Cereals         56           Gnocchi di nonna Alice   7649415.20   \n",
      "13  Grains/Cereals         64        Wimmers gute Semmelknödel   6689800.25   \n",
      "14  Grains/Cereals         22              Gustaf's Knäckebröd   4204838.40   \n",
      "15    Meat/Poultry         29          Thüringer Rostbratwurst  24630836.96   \n",
      "16    Meat/Poultry          9                  Mishi Kobe Niku  19424638.00   \n",
      "17    Meat/Poultry         17                     Alice Mutton   7887196.20   \n",
      "18         Produce         51            Manjimup Dried Apples  10667691.60   \n",
      "19         Produce         28                Rössle Sauerkraut   9253934.40   \n",
      "20         Produce          7  Uncle Bob's Organic Dried Pears   6118674.00   \n",
      "21         Seafood         18                 Carnarvon Tigers  12607487.50   \n",
      "22         Seafood         10                            Ikura   6239996.20   \n",
      "23         Seafood         30            Nord-Ost Matjeshering   5262730.32   \n",
      "\n",
      "    CategoryRank  \n",
      "0              1  \n",
      "1              2  \n",
      "2              3  \n",
      "3              1  \n",
      "4              2  \n",
      "5              3  \n",
      "6              1  \n",
      "7              2  \n",
      "8              3  \n",
      "9              1  \n",
      "10             2  \n",
      "11             3  \n",
      "12             1  \n",
      "13             2  \n",
      "14             3  \n",
      "15             1  \n",
      "16             2  \n",
      "17             3  \n",
      "18             1  \n",
      "19             2  \n",
      "20             3  \n",
      "21             1  \n",
      "22             2  \n",
      "23             3  \n"
     ]
    }
   ],
   "source": [
    "print(df)"
   ]
  },
  {
   "cell_type": "code",
   "execution_count": null,
   "id": "75e89599-385d-4807-8ed6-7de70c7c3cae",
   "metadata": {},
   "outputs": [],
   "source": []
  }
 ],
 "metadata": {
  "kernelspec": {
   "display_name": "Python 3 (ipykernel)",
   "language": "python",
   "name": "python3"
  },
  "language_info": {
   "codemirror_mode": {
    "name": "ipython",
    "version": 3
   },
   "file_extension": ".py",
   "mimetype": "text/x-python",
   "name": "python",
   "nbconvert_exporter": "python",
   "pygments_lexer": "ipython3",
   "version": "3.12.7"
  }
 },
 "nbformat": 4,
 "nbformat_minor": 5
}
